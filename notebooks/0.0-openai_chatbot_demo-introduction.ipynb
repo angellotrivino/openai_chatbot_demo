{
 "cells": [
  {
   "cell_type": "markdown",
   "metadata": {},
   "source": [
    "# Introducction\n",
    "\n",
    "## what are in the openai_chatbot_demo_packages directory?\n",
    "\n",
    "I share the structure of modules to make the code more dinamic, the **utils** module has **get_path.py** a file to obtain the abolute route of directories or files in this project.\n",
    "\n",
    "The funtions:\n",
    "\n",
    "- *make_dir* : make the absolute path \n",
    "- *make_item_list* : return a list with the paths of all files in the folder specified \n",
    "- *make_directorie_list* : return a list with the paths of all directories in the folder specified \n",
    "  \n",
    "you could review the **get_path.py** in the utils directory, feel free to change, update or create new modules in the openai_chatbot_demo_packages directory"
   ]
  },
  {
   "cell_type": "markdown",
   "metadata": {},
   "source": [
    "### Example of use\n",
    "Be sure that your enviroment is activate, then execute the code below\n",
    "\n",
    "```\n",
    "pip install —editable .\n",
    "```\n",
    "\n",
    "Then we need to run this block code in our notebook file before the import packages, with this we don't need to reload the notebook."
   ]
  },
  {
   "cell_type": "code",
   "execution_count": null,
   "metadata": {},
   "outputs": [],
   "source": [
    "%load_ext autoreload\n",
    "%autoreload 2"
   ]
  },
  {
   "cell_type": "markdown",
   "metadata": {},
   "source": [
    "Then you can use the modules in this template project without problems"
   ]
  },
  {
   "cell_type": "code",
   "execution_count": null,
   "metadata": {},
   "outputs": [],
   "source": [
    "\n",
    "import openai_chatbot_demo_packages.utils.get_path as path\n",
    "import os\n",
    "#the function get the parent path respect the file where the function is called\n",
    "print(path.make_path())"
   ]
  },
  {
   "cell_type": "markdown",
   "metadata": {},
   "source": [
    "to get path openai_chatbot_demo/data/0_raw"
   ]
  },
  {
   "cell_type": "code",
   "execution_count": null,
   "metadata": {},
   "outputs": [],
   "source": [
    "\n",
    "raw_directorie_path = path.make_path('data', '0_raw')\n",
    "print(raw_directorie_path)\n",
    "print(os.path.isdir(raw_directorie_path))"
   ]
  },
  {
   "cell_type": "markdown",
   "metadata": {},
   "source": [
    "to get a file path openai_chatbot_demo/data/0_raw/.gitkeep"
   ]
  },
  {
   "cell_type": "code",
   "execution_count": null,
   "metadata": {},
   "outputs": [],
   "source": [
    "file_path = path.make_path('data', '0_raw','.gitkeep')\n",
    "print(file_path)\n",
    "print(os.path.isfile(file_path))\n"
   ]
  },
  {
   "cell_type": "markdown",
   "metadata": {},
   "source": [
    "to get a list of files or folders in openai_chatbot_demo"
   ]
  },
  {
   "cell_type": "code",
   "execution_count": null,
   "metadata": {},
   "outputs": [],
   "source": [
    "base_items = path.make_item_list()\n",
    "print(base_items)\n",
    "base_folders=path.make_directories_list()\n",
    "print(base_folders)"
   ]
  }
 ],
 "metadata": {
  "interpreter": {
   "hash": "da0733af7d5e633716952d6f8ccf7a258aa98b5642ab14678a50d16c8d42da41"
  },
  "kernelspec": {
   "display_name": "Python 3.8.5 64-bit ('base': conda)",
   "language": "python",
   "name": "python3"
  },
  "language_info": {
   "codemirror_mode": {
    "name": "ipython",
    "version": 3
   },
   "file_extension": ".py",
   "mimetype": "text/x-python",
   "name": "python",
   "nbconvert_exporter": "python",
   "pygments_lexer": "ipython3",
   "version": "3.9.9"
  },
  "orig_nbformat": 4
 },
 "nbformat": 4,
 "nbformat_minor": 2
}
